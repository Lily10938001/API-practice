{
  "nbformat": 4,
  "nbformat_minor": 0,
  "metadata": {
    "colab": {
      "name": "串接MYSQL到自己的網域.ipynb",
      "provenance": [],
      "authorship_tag": "ABX9TyM8XGX8T0AvA621NLGi4PEg"
    },
    "kernelspec": {
      "name": "python3",
      "display_name": "Python 3"
    },
    "language_info": {
      "name": "python"
    }
  },
  "cells": [
    {
      "cell_type": "markdown",
      "source": [
        "## 串接MYSQL資料到自己的網域,並直接透過修改網域名稱對資料庫進行動作(RESTful API的特色) : \n",
        "### 工具一－MAMP: \n",
        "- https://www.mamp.info/en/windows/\n",
        "- 可以用localhost連到網頁版的PhpMyadmin\n",
        "- 按開關”Start Servers”　→　按中間”Open Webstart Page”　→　連到PhpMyAdmin(port號 = 3360)\n",
        "\n",
        "### 工具二－POSTMAN:\n",
        "- https://www.postman.com/downloads/\n",
        "- 類似瀏覽器,貼上url就可以查詢所串的MYSQL資料庫api,但更能get、post、delete、update資料進去"
      ],
      "metadata": {
        "id": "xVVJZ6dOvae0"
      }
    },
    {
      "cell_type": "code",
      "execution_count": null,
      "metadata": {
        "id": "Cy0nq12pvPNM"
      },
      "outputs": [],
      "source": [
        "pip install flask # WEB框架\n",
        "pip install flask-restful # 可把URL名稱寫得簡略，並將動作藏在HTTP的method裡面\n",
        "pip install pymysql"
      ]
    }
  ]
}