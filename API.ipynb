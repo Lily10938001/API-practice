{
  "cells": [
    {
      "cell_type": "markdown",
      "metadata": {
        "id": "view-in-github",
        "colab_type": "text"
      },
      "source": [
        "<a href=\"https://colab.research.google.com/github/Lily10938001/API-practice/blob/main/API.ipynb\" target=\"_parent\"><img src=\"https://colab.research.google.com/assets/colab-badge.svg\" alt=\"Open In Colab\"/></a>"
      ]
    },
    {
      "cell_type": "markdown",
      "source": [
        "## 串接API到自己的網域"
      ],
      "metadata": {
        "id": "XHChIBcMiVZT"
      }
    },
    {
      "cell_type": "code",
      "source": [
        "!pip install requests"
      ],
      "metadata": {
        "id": "UXiWV5L0uOGt"
      },
      "execution_count": null,
      "outputs": []
    },
    {
      "cell_type": "code",
      "source": [
        "import requests\n",
        "from datetime import datetime\n",
        "\n",
        "def get_symbols_info(symbols):\n",
        "    headers = {'x-api-key': \"ifv7N4Itrtz6uCTkwN8G6fFxvoVV4643QsrNzg3d\"}\n",
        "    url = \"https://yfapi.net/v8/finance/spark\"\n",
        "    querystring = {\"symbols\": symbols, \"range\": \"1mo\", \"interval\": \"1d\"}\n",
        "    response = requests.request(\"GET\", url, headers=headers, params=querystring)\n",
        "    data = response.json()\n",
        "    results = {}\n",
        "\n",
        "    for symbol in symbols.split(\",\"):\n",
        "        # Convert timestamp to str datetime\n",
        "        timestamps = data[symbol][\"timestamp\"]\n",
        "        for index, timestamp in enumerate(timestamps):\n",
        "            timestamps[index] = datetime.fromtimestamp(timestamp).strftime('%Y-%m-%d')\n",
        "\n",
        "        close_piece = data[symbol][\"close\"]\n",
        "  \n",
        "        symbol_info_mapping = dict(zip(timestamps, close_piece))  #將兩個list合成一個dict\n",
        "\n",
        "        results[symbol] = symbol_info_mapping\n",
        "    return results\n",
        "\n",
        "if __name__ == '__main__':\n",
        "    print(get_symbols_info(\"AAPL,MSFT\")) "
      ],
      "metadata": {
        "id": "qaUTOEBsSN22"
      },
      "execution_count": null,
      "outputs": []
    },
    {
      "cell_type": "markdown",
      "source": [
        "## 串接MYSQL資料到自己的網域,並直接透過修改網域名稱對資料庫進行動作(RESTful API的特色) : \n",
        "### 工具一－MAMP: \n",
        "- https://www.mamp.info/en/windows/\n",
        "- 可以用localhost連到網頁版的PhpMyadmin\n",
        "- 按開關”Start Servers”　→　按中間”Open Webstart Page”　→　連到PhpMyAdmin(port號 = 3360)\n",
        "\n",
        "### 工具二－POSTMAN:\n",
        "- https://www.postman.com/downloads/\n",
        "- 類似瀏覽器,貼上url就可以查詢所串的MYSQL資料庫api,但更能get、post、delete、update資料進去"
      ],
      "metadata": {
        "id": "eWljsszzibSB"
      }
    },
    {
      "cell_type": "code",
      "source": [
        "pip install flask # WEB框架\n",
        "pip install flask-restful # 可把URL名稱寫得簡略，並將動作藏在HTTP的method裡面\n",
        "pip install pymysql"
      ],
      "metadata": {
        "id": "0IRGnlinME-D"
      },
      "execution_count": null,
      "outputs": []
    },
    {
      "cell_type": "code",
      "source": [
        "# app.py\n",
        "# 試圖直接透過修改自己的網域名稱(在postman上操作)\n",
        "# 來對串接的後台資料庫進行修改、查詢等功能\n",
        "\n",
        "import flask\n",
        "from flask_restful import Api  \n",
        "from resource.user import Users, User  # resource(資料夾).user(檔名)\n",
        "\n",
        "\n",
        "app = flask.Flask(__name__)\n",
        "app.config[\"DEBUG\"] = True\n",
        "api = Api(app)\n",
        "\n",
        "# 用restful api的形式為url命名\n",
        "api.add_resource(Users, \"/users\")  # 對全體資料做動作\n",
        "api.add_resource(User, \"/user/<int:id>\")  # 對指定的id那筆資料做動作\n",
        "\n",
        "\n",
        "# py3預設的名字為main,此行是確保事py3是由name執行\n",
        "if __name__ == '__main__':\n",
        "    # flask server預定的localhost ip ,80誒是域定的port號\n",
        "    app.run(host='127.0.0.1', port=10009)\n",
        "\n",
        "# 在postman查詢http://127.0.0.1:10009/users會出現users的表格內容\n",
        "# 在postman查詢http://127.0.0.1:10009/user/2會針對id=2的項目做相關動作"
      ],
      "metadata": {
        "id": "vz1dgozxSQst"
      },
      "execution_count": null,
      "outputs": []
    },
    {
      "cell_type": "code",
      "source": [
        "# user.py\n",
        "# 針對mysql(db名test、table名user)的資料做新增、刪除、查詢等動作的設計\n",
        "# 先讓自己連上資料庫(phpmyadmin)\n",
        "\n",
        "from flask import jsonify\n",
        "from flask_restful import Resource, reqparse\n",
        "import pymysql\n",
        "\n",
        "class Users(Resource):\n",
        "  def db_init(self):\n",
        "      db = pymysql.connect(\n",
        "          host='127.0.0.1',\n",
        "          user='root',\n",
        "          password='root',\n",
        "          port=3306,\n",
        "          db='test'\n",
        "      )\n",
        "      cursor = db.cursor(pymysql.cursors.DictCursor)\n",
        "      return db, cursor\n",
        "\n",
        "\n",
        "  def get(self):\n",
        "      db, cursor = self.db_init()\n",
        "      parser = reqparse.RequestParser()\n",
        "      parser.add_argument('name')\n",
        "      args = parser.parse_args()\n",
        "      name = args.get(\"name\")\n",
        "      if name is not None:\n",
        "          sql = f\"SELECT * FROM test.user WHERE name = '{name}';\"\n",
        "      else:\n",
        "          sql = 'SELECT * FROM test.user;'\n",
        "\n",
        "      cursor.execute(sql)\n",
        "      users = cursor.fetchall()\n",
        "      db.close()\n",
        "      return jsonify(users)\n",
        "      # 在postman用GET查詢http://127.0.0.1:10009/users會出現users的表格內容\n",
        "\n",
        "  def post(self):\n",
        "      db, cursor = self.db_init()\n",
        "      parser = reqparse.RequestParser()\n",
        "      parser.add_argument('name', required=True)\n",
        "      parser.add_argument('gender', required=True)\n",
        "      parser.add_argument('birth')\n",
        "      parser.add_argument('note')\n",
        "      args = parser.parse_args()\n",
        "      user = {\n",
        "          'name': args['name'],\n",
        "          'gender': args['gender'],\n",
        "          'birth': args.get('birth') or '1900-01-01',\n",
        "          'note': args.get('note')\n",
        "      }\n",
        "      sql = \"\"\"\n",
        "\n",
        "      INSERT INTO `test`.`user` (`name`,`gender`,`birth`,`note`)\n",
        "      VALUES ('{}','{}','{}','{}');\n",
        "\n",
        "      \"\"\".format(user['name'], user['gender'], user['birth'], user['note'])\n",
        "      result = cursor.execute(sql)\n",
        "      db.commit()\n",
        "      db.close()\n",
        "      response = {\"message\": \"success\"}\n",
        "      return jsonify(response)\n",
        "      # 在postman用POST查詢http://127.0.0.1:10009/users並在\"body\"-\"form data\"輸入post的資料就可以新增資料\n",
        "\n",
        "class User(Resource):\n",
        "  def db_init(self):\n",
        "      db = pymysql.connect(\n",
        "          host='127.0.0.1',\n",
        "          user='root',\n",
        "          password='root',\n",
        "          port=3306,\n",
        "          db='test'\n",
        "      )\n",
        "\n",
        "      cursor = db.cursor(pymysql.cursors.DictCursor)\n",
        "      return db, cursor\n",
        "\n",
        "  # Get single by id\n",
        "  def get(self, id):\n",
        "      db, cursor = self.db_init()\n",
        "      print(db, cursor)\n",
        "      sql = f\"SELECT * FROM test.user WHERE id = '{id}';\"\n",
        "      cursor.execute(sql)\n",
        "      users = cursor.fetchall()\n",
        "      db.close()\n",
        "      return jsonify(users)\n",
        "      # 在postman用GET查詢http://127.0.0.1:10009/user/1就可以查詢到id=1的資料\n",
        "\n",
        "  def patch(self, id):\n",
        "      db, cursor = self.db_init()\n",
        "      parser = reqparse.RequestParser()\n",
        "      parser.add_argument('name')\n",
        "      parser.add_argument('gender')\n",
        "      parser.add_argument('birth')\n",
        "      parser.add_argument('note')\n",
        "      args = parser.parse_args()\n",
        "      user = {\n",
        "          'name': args.get('name'),\n",
        "          'gender': args.get('gender'),\n",
        "          'birth': args.get('birth'),\n",
        "          'note': args.get('note')\n",
        "      }\n",
        "\n",
        "      query = []\n",
        "      for key, value in user.items():\n",
        "          if value is not None:\n",
        "              query.append(f\"{key} = '{value}'\")\n",
        "      query = \",\".join(query)\n",
        "\n",
        "      sql = \"\"\"\n",
        "          UPDATE test.user\n",
        "          SET {}\n",
        "          WHERE id = {};\n",
        "      \"\"\".format(query, id)\n",
        "\n",
        "      print(sql)\n",
        "      result = cursor.execute(sql)\n",
        "      db.commit()\n",
        "      db.close()\n",
        "\n",
        "      response = {\"message\": \"success\"}\n",
        "      \n",
        "      return jsonify(response)\n",
        "      # 在postman用PATCH查詢http://127.0.0.1:10009/user/1並在\"body\"-\"form data\"輸入修改後的資料就可以修改id=1的資料\n",
        "  \n",
        "  def delete(self, id):\n",
        "      db, cursor = self.db_init()\n",
        "      sql = f'DELETE FROM `test`.`user` WHERE id = {id};'\n",
        "      result = cursor.execute(sql)\n",
        "      db.commit()\n",
        "      db.close()\n",
        "\n",
        "      response = {\"message\": \"success\"}\n",
        "      return jsonify(response)\n",
        "      # 在postman用DELETE查詢http://127.0.0.1:10009/user/1就可以刪除id=1的資料"
      ],
      "metadata": {
        "id": "xlgcvMfWSULW"
      },
      "execution_count": null,
      "outputs": []
    },
    {
      "cell_type": "code",
      "source": [
        "pip install flask-apispec\n",
        "pip install flask-jwt-extended"
      ],
      "metadata": {
        "id": "3tmDJvDfyMnu"
      },
      "execution_count": null,
      "outputs": []
    },
    {
      "cell_type": "code",
      "source": [
        "# decorator\"@\"\n",
        "\n",
        "def introduction(func):   # func是等等要放入的get_number()\n",
        "  def wrapper():  \n",
        "    print (\"這是一個會回傳int的函式\")\n",
        "    func()      # 回傳get_number()\n",
        "  return (wrapper)   # 執行wrapper() #不用括號ㄟ\n",
        "\n",
        "@introduction # 定義每次使用get_number()的時候都要做introduction()的所有動作\n",
        "def get_number():\n",
        "  print(\"1\")\n",
        "\n",
        "if __name__ == \"__main__\":\n",
        "  get_number() \n"
      ],
      "metadata": {
        "colab": {
          "base_uri": "https://localhost:8080/"
        },
        "id": "kjdmzobT5-HJ",
        "outputId": "46cda934-892d-44fb-ace6-6e8c701c58bc"
      },
      "execution_count": null,
      "outputs": [
        {
          "output_type": "stream",
          "name": "stdout",
          "text": [
            "這是一個會回傳int的函式\n",
            "1\n"
          ]
        }
      ]
    },
    {
      "cell_type": "code",
      "source": [
        "def introduction(func):\n",
        "   def wrap():\n",
        "       print(\"heyhey\")\n",
        "       func()\n",
        "   return wrap\n",
        " \n",
        "def introduction_with_param(param1):\n",
        "   def introduction(func):\n",
        "       def wrap():\n",
        "           print(param1)\n",
        "           func()\n",
        "          \n",
        "       return wrap\n",
        "   return introduction\n",
        "  \n",
        "param1 = \"param1\"      \n",
        " \n",
        "@introduction\n",
        "@introduction_with_param(param1)\n",
        "def get_number():\n",
        "   print(\"hey\")\n",
        "\n",
        "if __name__ == \"__main__\":\n",
        "  get_number()"
      ],
      "metadata": {
        "colab": {
          "base_uri": "https://localhost:8080/"
        },
        "id": "S_1h_0I0DMWF",
        "outputId": "065eaa93-5b90-4034-d470-2df7c9e1d040"
      },
      "execution_count": null,
      "outputs": [
        {
          "output_type": "stream",
          "name": "stdout",
          "text": [
            "heyhey\n",
            "param1\n",
            "hey\n"
          ]
        }
      ]
    }
  ],
  "metadata": {
    "colab": {
      "name": "API.ipynb",
      "provenance": [],
      "collapsed_sections": [],
      "include_colab_link": true
    },
    "kernelspec": {
      "display_name": "Python 3",
      "name": "python3"
    },
    "language_info": {
      "name": "python"
    }
  },
  "nbformat": 4,
  "nbformat_minor": 0
}