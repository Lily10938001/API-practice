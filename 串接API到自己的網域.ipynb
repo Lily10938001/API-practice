{
  "cells": [
    {
      "cell_type": "code",
      "source": [
        "!pip install requests"
      ],
      "metadata": {
        "id": "UXiWV5L0uOGt"
      },
      "execution_count": null,
      "outputs": []
    },
    {
      "cell_type": "code",
      "source": [
        "import requests\n",
        "from datetime import datetime\n",
        "\n",
        "def get_symbols_info(symbols):\n",
        "    headers = {'x-api-key': \"ifv7N4Itrtz6uCTkwN8G6fFxvoVV4643QsrNzg3d\"}\n",
        "    url = \"https://yfapi.net/v8/finance/spark\"\n",
        "    querystring = {\"symbols\": symbols, \"range\": \"1mo\", \"interval\": \"1d\"}\n",
        "    response = requests.request(\"GET\", url, headers=headers, params=querystring)\n",
        "    data = response.json()\n",
        "    results = {}\n",
        "\n",
        "    for symbol in symbols.split(\",\"):\n",
        "        # Convert timestamp to str datetime\n",
        "        timestamps = data[symbol][\"timestamp\"]\n",
        "        for index, timestamp in enumerate(timestamps):\n",
        "            timestamps[index] = datetime.fromtimestamp(timestamp).strftime('%Y-%m-%d')\n",
        "\n",
        "        close_piece = data[symbol][\"close\"]\n",
        "  \n",
        "        symbol_info_mapping = dict(zip(timestamps, close_piece))  #將兩個list合成一個dict\n",
        "\n",
        "        results[symbol] = symbol_info_mapping\n",
        "    return results\n",
        "\n",
        "if __name__ == '__main__':\n",
        "    print(get_symbols_info(\"AAPL,MSFT\")) "
      ],
      "metadata": {
        "id": "qaUTOEBsSN22"
      },
      "execution_count": null,
      "outputs": []
    }
  ],
  "metadata": {
    "colab": {
      "name": "串接API到自己的網域",
      "provenance": [],
      "collapsed_sections": []
    },
    "kernelspec": {
      "display_name": "Python 3",
      "name": "python3"
    },
    "language_info": {
      "name": "python"
    }
  },
  "nbformat": 4,
  "nbformat_minor": 0
}