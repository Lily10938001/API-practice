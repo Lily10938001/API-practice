{
 "cells": [
  {
   "cell_type": "markdown",
   "id": "742eaa92",
   "metadata": {},
   "source": [
    "### 試圖直接透過修改自己的網域名稱(在postman上操作)\n",
    "### 來對串接的後台資料庫進行修改、查詢等功能"
   ]
  },
  {
   "cell_type": "code",
   "execution_count": null,
   "id": "0e97c4ba",
   "metadata": {},
   "outputs": [],
   "source": [
    "!pip install flask\n",
    "!pip install flask-restful   ---將api形式簡易化,讓user只需利用4個http method即可對資料進行存取"
   ]
  },
  {
   "cell_type": "code",
   "execution_count": null,
   "id": "9fffef2a",
   "metadata": {},
   "outputs": [],
   "source": [
    "import flask\n",
    "from flask_restful import Api  \n",
    "from resource.user import Users, User  # resource(資料夾).user(檔名)\n",
    "\n",
    "\n",
    "app = flask.Flask(__name__)\n",
    "app.config[\"DEBUG\"] = True\n",
    "api = Api(app)\n",
    "\n",
    "# 用restful api的形式為url命名\n",
    "api.add_resource(Users, \"/users\")  # 對全體資料做動作\n",
    "api.add_resource(User, \"/user/<int:id>\")  # 對指定的id那筆資料做動作\n",
    "\n",
    "\n",
    "# py3預設的名字為main,此行是確保事py3是由name執行\n",
    "if __name__ == '__main__':\n",
    "    # flask server預定的localhost ip ,80誒是域定的port號\n",
    "    app.run(host='127.0.0.1', port=10009)\n",
    "\n",
    "# 在postman查詢http://127.0.0.1:10009/users會出現整個表格內容\n",
    "# 在postman查詢http://127.0.0.1:10009/user/2會針對id=2的項目做相關動作"
   ]
  }
 ],
 "metadata": {
  "kernelspec": {
   "display_name": "Python 3",
   "language": "python",
   "name": "python3"
  },
  "language_info": {
   "codemirror_mode": {
    "name": "ipython",
    "version": 3
   },
   "file_extension": ".py",
   "mimetype": "text/x-python",
   "name": "python",
   "nbconvert_exporter": "python",
   "pygments_lexer": "ipython3",
   "version": "3.8.10"
  }
 },
 "nbformat": 4,
 "nbformat_minor": 5
}
